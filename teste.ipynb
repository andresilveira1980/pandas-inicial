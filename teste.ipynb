{
 "cells": [
  {
   "cell_type": "code",
   "execution_count": null,
   "metadata": {
    "vscode": {
     "languageId": "plaintext"
    }
   },
   "outputs": [],
   "source": [
    "import pandas as pd"
   ]
  },
  {
   "cell_type": "code",
   "execution_count": null,
   "metadata": {
    "vscode": {
     "languageId": "plaintext"
    }
   },
   "outputs": [],
   "source": [
    "#dataframe = pd.DataFrame()\n",
    "\n",
    "venda = {'data': ['15/02/2021', '16/02/2021'],\n",
    "'valor': [500,300],\n",
    "'produto':['feijao', 'arroz'],\n",
    "'qtde':[50,70],\n",
    "}\n",
    "print(venda)"
   ]
  },
  {
   "cell_type": "code",
   "execution_count": null,
   "metadata": {
    "vscode": {
     "languageId": "plaintext"
    }
   },
   "outputs": [],
   "source": [
    "tabela_vendas = pd.DataFrame(venda)\n",
    "display(tabela_vendas)"
   ]
  }
 ],
 "metadata": {
  "language_info": {
   "name": "python"
  }
 },
 "nbformat": 4,
 "nbformat_minor": 2
}
